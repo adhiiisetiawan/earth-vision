{
 "cells": [
  {
   "cell_type": "code",
   "execution_count": 1,
   "id": "angry-affairs",
   "metadata": {},
   "outputs": [],
   "source": [
    "import os\n",
    "from torch.utils.data import DataLoader\n",
    "from earthvision.datasets.resisc45 import RESISC45"
   ]
  },
  {
   "cell_type": "code",
   "execution_count": 2,
   "id": "bridal-average",
   "metadata": {},
   "outputs": [],
   "source": [
    "train_dataset = RESISC45(root=os.getcwd())"
   ]
  },
  {
   "cell_type": "code",
   "execution_count": 3,
   "id": "controlling-waterproof",
   "metadata": {},
   "outputs": [],
   "source": [
    "train_dataloader = DataLoader(train_dataset, batch_size=64, shuffle=True)"
   ]
  },
  {
   "cell_type": "code",
   "execution_count": 4,
   "id": "rental-covering",
   "metadata": {},
   "outputs": [],
   "source": [
    "train_data, train_label = next(iter(train_dataloader))"
   ]
  },
  {
   "cell_type": "code",
   "execution_count": 5,
   "id": "closing-salad",
   "metadata": {},
   "outputs": [
    {
     "output_type": "stream",
     "name": "stdout",
     "text": [
      "torch.Size([64, 256, 256, 3])\ntorch.Size([64, 45])\n"
     ]
    }
   ],
   "source": [
    "print(train_data.shape)\n",
    "print(train_label.shape)"
   ]
  },
  {
   "cell_type": "code",
   "execution_count": null,
   "metadata": {},
   "outputs": [],
   "source": []
  }
 ],
 "metadata": {
  "kernelspec": {
   "name": "python377jvsc74a57bd0c1f0727e8da2fb34a188680f3b34592f2ac9bc50c417750c7efbc335aeac3a29",
   "display_name": "Python 3.7.7 64-bit ('env_pytorch': conda)"
  },
  "language_info": {
   "codemirror_mode": {
    "name": "ipython",
    "version": 3
   },
   "file_extension": ".py",
   "mimetype": "text/x-python",
   "name": "python",
   "nbconvert_exporter": "python",
   "pygments_lexer": "ipython3",
   "version": "3.7.7"
  }
 },
 "nbformat": 4,
 "nbformat_minor": 5
}