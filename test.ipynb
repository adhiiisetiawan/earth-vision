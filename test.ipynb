{
 "cells": [
  {
   "cell_type": "code",
   "execution_count": 1,
   "id": "angry-affairs",
   "metadata": {},
   "outputs": [],
   "source": [
    "import os\n",
    "from torch.utils.data import DataLoader\n",
    "from earthvision.datasets import RESISC45"
   ]
  },
  {
   "cell_type": "code",
   "execution_count": 2,
   "id": "bridal-average",
   "metadata": {},
   "outputs": [],
   "source": [
    "train_dataset = RESISC45(root='D:\\jakartaresearch')"
   ]
  },
  {
   "cell_type": "code",
   "execution_count": 3,
   "id": "controlling-waterproof",
   "metadata": {},
   "outputs": [],
   "source": [
    "train_dataloader = DataLoader(train_dataset, batch_size=64, shuffle=True)"
   ]
  },
  {
   "cell_type": "code",
   "execution_count": 4,
   "id": "rental-covering",
   "metadata": {},
   "outputs": [],
   "source": [
    "train_data, train_label = next(iter(train_dataloader))"
   ]
  },
  {
   "cell_type": "code",
   "execution_count": 5,
   "id": "closing-salad",
   "metadata": {},
   "outputs": [
    {
     "output_type": "stream",
     "name": "stdout",
     "text": [
      "torch.Size([64, 256, 256, 3])\ntorch.Size([64])\n"
     ]
    }
   ],
   "source": [
    "print(train_data.shape)\n",
    "print(train_label.shape)"
   ]
  },
  {
   "cell_type": "code",
   "execution_count": 6,
   "metadata": {},
   "outputs": [
    {
     "output_type": "execute_result",
     "data": {
      "text/plain": [
       "tensor([ 3, 38, 12, 23, 21, 29, 19, 16,  9, 44, 35, 34, 33, 12,  5, 32, 12, 14,\n",
       "        12, 42, 34, 23,  5,  4,  7, 35, 38, 33, 32,  7, 29, 22, 44, 42, 36, 19,\n",
       "         0, 38,  7,  0, 20, 19, 18, 23, 19,  6, 18, 27, 17, 17,  4,  8, 24, 26,\n",
       "         7, 24, 37, 35, 24,  6, 27, 18, 24, 34])"
      ]
     },
     "metadata": {},
     "execution_count": 6
    }
   ],
   "source": [
    "train_label"
   ]
  },
  {
   "cell_type": "code",
   "execution_count": 7,
   "metadata": {},
   "outputs": [
    {
     "output_type": "execute_result",
     "data": {
      "text/plain": [
       "['basketball_court',\n",
       " 'sparse_residential',\n",
       " 'desert',\n",
       " 'medium_residential',\n",
       " 'lake',\n",
       " 'railway',\n",
       " 'intersection',\n",
       " 'ground_track_field',\n",
       " 'cloud',\n",
       " 'wetland',\n",
       " 'sea_ice',\n",
       " 'runway',\n",
       " 'roundabout',\n",
       " 'desert',\n",
       " 'bridge',\n",
       " 'river',\n",
       " 'desert',\n",
       " 'freeway',\n",
       " 'desert',\n",
       " 'terrace',\n",
       " 'runway',\n",
       " 'medium_residential',\n",
       " 'bridge',\n",
       " 'beach',\n",
       " 'church',\n",
       " 'sea_ice',\n",
       " 'sparse_residential',\n",
       " 'roundabout',\n",
       " 'river',\n",
       " 'church',\n",
       " 'railway',\n",
       " 'meadow',\n",
       " 'wetland',\n",
       " 'terrace',\n",
       " 'ship',\n",
       " 'intersection',\n",
       " 'airplane',\n",
       " 'sparse_residential',\n",
       " 'church',\n",
       " 'airplane',\n",
       " 'island',\n",
       " 'intersection',\n",
       " 'industrial_area',\n",
       " 'medium_residential',\n",
       " 'intersection',\n",
       " 'chaparral',\n",
       " 'industrial_area',\n",
       " 'palace',\n",
       " 'harbor',\n",
       " 'harbor',\n",
       " 'beach',\n",
       " 'circular_farmland',\n",
       " 'mobile_home_park',\n",
       " 'overpass',\n",
       " 'church',\n",
       " 'mobile_home_park',\n",
       " 'snowberg',\n",
       " 'sea_ice',\n",
       " 'mobile_home_park',\n",
       " 'chaparral',\n",
       " 'palace',\n",
       " 'industrial_area',\n",
       " 'mobile_home_park',\n",
       " 'runway']"
      ]
     },
     "metadata": {},
     "execution_count": 7
    }
   ],
   "source": [
    "import torch\n",
    "decoder = train_dataset.class_dec\n",
    "[decoder[x.item()] for x in train_label]"
   ]
  }
 ],
 "metadata": {
  "kernelspec": {
   "name": "python377jvsc74a57bd0c1f0727e8da2fb34a188680f3b34592f2ac9bc50c417750c7efbc335aeac3a29",
   "display_name": "Python 3.7.7 64-bit ('env_pytorch': conda)"
  },
  "language_info": {
   "codemirror_mode": {
    "name": "ipython",
    "version": 3
   },
   "file_extension": ".py",
   "mimetype": "text/x-python",
   "name": "python",
   "nbconvert_exporter": "python",
   "pygments_lexer": "ipython3",
   "version": "3.7.7"
  }
 },
 "nbformat": 4,
 "nbformat_minor": 5
}