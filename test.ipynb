{
 "cells": [
  {
   "cell_type": "code",
   "execution_count": 1,
   "id": "angry-affairs",
   "metadata": {},
   "outputs": [],
   "source": [
    "import os\n",
    "from torch.utils.data import DataLoader\n",
    "from earthvision.datasets import DroneDeploy"
   ]
  },
  {
   "cell_type": "code",
   "execution_count": 2,
   "id": "bridal-average",
   "metadata": {},
   "outputs": [
    {
     "output_type": "stream",
     "name": "stdout",
     "text": [
      "Downloading \"dataset-sample\"\n",
      "418980864it [03:11, 2187373.50it/s]                               \n",
      "Extracting \"dataset-sample.tar.gz\"\n",
      "converting images to chips - this may take a few minutes but only needs to be done once.\n",
      "converting train.txt image dataset-sample/images/1d4fbe33f3_F1BE1D4184INSPIRE-ortho.tif 2962x5542 to chips ...\n",
      "converting test.txt image dataset-sample/images/e1d3e6f6ba_B4DE0FB544INSPIRE-ortho.tif 5924x8408 to chips ...\n",
      "converting valid.txt image dataset-sample/images/ec09336a6f_06BA0AF311OPENPIPELINE-ortho.tif 7262x4968 to chips ...\n"
     ]
    }
   ],
   "source": [
    "train_dataset = DroneDeploy(root=os.getcwd(), download=True, data_mode=0)\n",
    "valid_dataset = DroneDeploy(root=os.getcwd(), download=False, data_mode=1)\n",
    "test_dataset = DroneDeploy(root=os.getcwd(), download=False, data_mode=2)"
   ]
  },
  {
   "cell_type": "code",
   "execution_count": 3,
   "id": "controlling-waterproof",
   "metadata": {},
   "outputs": [],
   "source": [
    "train_dataloader = DataLoader(train_dataset, batch_size=64, shuffle=True)\n",
    "valid_dataloader = DataLoader(valid_dataset, batch_size=64, shuffle=True)\n",
    "test_dataloader = DataLoader(test_dataset, batch_size=64, shuffle=True)"
   ]
  },
  {
   "cell_type": "code",
   "execution_count": 4,
   "id": "rental-covering",
   "metadata": {},
   "outputs": [],
   "source": [
    "train_data, train_label = next(iter(train_dataloader))\n",
    "valid_data, valid_label = next(iter(valid_dataloader))\n",
    "test_data, test_label = next(iter(test_dataloader))"
   ]
  },
  {
   "cell_type": "code",
   "execution_count": 5,
   "id": "closing-salad",
   "metadata": {},
   "outputs": [
    {
     "output_type": "stream",
     "name": "stdout",
     "text": [
      "torch.Size([36, 300, 300, 3])\ntorch.Size([36, 300, 300, 6])\ntorch.Size([64, 300, 300, 3])\ntorch.Size([64, 300, 300, 6])\ntorch.Size([64, 300, 300, 3])\ntorch.Size([64, 300, 300, 6])\n"
     ]
    }
   ],
   "source": [
    "print(train_data.shape)\n",
    "print(train_label.shape)\n",
    "print(valid_data.shape)\n",
    "print(valid_label.shape)\n",
    "print(test_data.shape)\n",
    "print(test_label.shape)"
   ]
  },
  {
   "cell_type": "code",
   "execution_count": null,
   "metadata": {},
   "outputs": [],
   "source": []
  }
 ],
 "metadata": {
  "kernelspec": {
   "display_name": "base",
   "language": "python",
   "name": "base"
  },
  "language_info": {
   "codemirror_mode": {
    "name": "ipython",
    "version": 3
   },
   "file_extension": ".py",
   "mimetype": "text/x-python",
   "name": "python",
   "nbconvert_exporter": "python",
   "pygments_lexer": "ipython3",
   "version": "3.8.3"
  }
 },
 "nbformat": 4,
 "nbformat_minor": 5
}