{
 "cells": [
  {
   "cell_type": "code",
   "execution_count": 1,
   "id": "supported-render",
   "metadata": {},
   "outputs": [],
   "source": [
    "import os\n",
    "from jreo.datasets import DroneDeploy"
   ]
  },
  {
   "cell_type": "code",
   "execution_count": 2,
   "id": "expanded-tokyo",
   "metadata": {},
   "outputs": [
    {
     "output_type": "stream",
     "name": "stdout",
     "text": [
      "Downloading \"dataset-sample\"\n",
      "418980864it [03:47, 1845144.13it/s]                              \n",
      "Extracting \"dataset-sample.tar.gz\"\n",
      "Creating chips\n",
      "converting 3 images to chips - this may take a few minutes but only needs to be done once.\n",
      "converting train.txt image dataset-sample/images/1d4fbe33f3_F1BE1D4184INSPIRE-ortho.tif 2962x5542 to chips ...\n",
      "not converting test image e1d3e6f6ba_B4DE0FB544INSPIRE to chips, it will be used for inference.\n",
      "converting valid.txt image dataset-sample/images/ec09336a6f_06BA0AF311OPENPIPELINE-ortho.tif 7262x4968 to chips ...\n"
     ]
    }
   ],
   "source": [
    "dataset = DroneDeploy(root=os.getcwd(), download=True)"
   ]
  },
  {
   "cell_type": "code",
   "execution_count": 3,
   "id": "editorial-unemployment",
   "metadata": {},
   "outputs": [
    {
     "output_type": "execute_result",
     "data": {
      "text/plain": [
       "{'root': '/home/ryx/JREO',\n",
       " 'dataset': 'dataset-sample',\n",
       " 'filename': 'dataset-sample.tar.gz'}"
      ]
     },
     "metadata": {},
     "execution_count": 3
    }
   ],
   "source": [
    "dataset.__dict__"
   ]
  }
 ],
 "metadata": {
  "kernelspec": {
   "name": "python383jvsc74a57bd02aff6ae6da96cf8f92a8b190e4f251d27124bdd641349fdac949415d441b204b",
   "display_name": "Python 3.8.3 64-bit ('base': conda)"
  },
  "language_info": {
   "codemirror_mode": {
    "name": "ipython",
    "version": 3
   },
   "file_extension": ".py",
   "mimetype": "text/x-python",
   "name": "python",
   "nbconvert_exporter": "python",
   "pygments_lexer": "ipython3",
   "version": "3.8.3"
  }
 },
 "nbformat": 4,
 "nbformat_minor": 5
}