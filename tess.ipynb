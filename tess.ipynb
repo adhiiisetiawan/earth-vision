{
 "cells": [
  {
   "cell_type": "code",
   "execution_count": 1,
   "id": "supported-render",
   "metadata": {},
   "outputs": [],
   "source": [
    "import os\n",
    "from jreo.semantic_segmentation import DroneSemantic"
   ]
  },
  {
   "cell_type": "code",
   "execution_count": 3,
   "id": "expanded-tokyo",
   "metadata": {},
   "outputs": [
    {
     "name": "stdout",
     "output_type": "stream",
     "text": [
      "zipfile \"dataset-sample.tar.gz\" already exists, remove it if you want to re-download.\n"
     ]
    }
   ],
   "source": [
    "dataset = DroneSemantic(root=os.getcwd(), download=True)"
   ]
  },
  {
   "cell_type": "code",
   "execution_count": null,
   "id": "editorial-unemployment",
   "metadata": {},
   "outputs": [],
   "source": [
    "dataset.__dict__"
   ]
  },
  {
   "cell_type": "code",
   "execution_count": null,
   "id": "floating-reservoir",
   "metadata": {},
   "outputs": [],
   "source": []
  }
 ],
 "metadata": {
  "kernelspec": {
   "display_name": "Python 3",
   "language": "python",
   "name": "python3"
  },
  "language_info": {
   "codemirror_mode": {
    "name": "ipython",
    "version": 3
   },
   "file_extension": ".py",
   "mimetype": "text/x-python",
   "name": "python",
   "nbconvert_exporter": "python",
   "pygments_lexer": "ipython3",
   "version": "3.8.3"
  }
 },
 "nbformat": 4,
 "nbformat_minor": 5
}
