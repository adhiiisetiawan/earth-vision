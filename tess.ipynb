{
 "cells": [
  {
   "cell_type": "code",
   "execution_count": 1,
   "id": "angry-affairs",
   "metadata": {},
   "outputs": [],
   "source": [
    "import os\n",
    "from torch.utils.data import DataLoader\n",
    "from earthvision.datasets import DroneDeploy"
   ]
  },
  {
   "cell_type": "code",
   "execution_count": 2,
   "id": "bridal-average",
   "metadata": {},
   "outputs": [],
   "source": [
    "train_dataset = DroneDeploy(root=os.getcwd(), download=False, data_mode=0)\n",
    "valid_dataset = DroneDeploy(root=os.getcwd(), download=False, data_mode=1)\n",
    "test_dataset = DroneDeploy(root=os.getcwd(), download=False, data_mode=2)"
   ]
  },
  {
   "cell_type": "code",
   "execution_count": 3,
   "id": "controlling-waterproof",
   "metadata": {},
   "outputs": [],
   "source": [
    "train_dataloader = DataLoader(train_dataset, batch_size=64, shuffle=True)\n",
    "valid_dataloader = DataLoader(valid_dataset, batch_size=64, shuffle=True)\n",
    "test_dataloader = DataLoader(test_dataset, batch_size=64, shuffle=True)"
   ]
  },
  {
   "cell_type": "code",
   "execution_count": 4,
   "id": "rental-covering",
   "metadata": {},
   "outputs": [],
   "source": [
    "train_data, train_label = next(iter(train_dataloader))\n",
    "valid_data, valid_label = next(iter(valid_dataloader))\n",
    "test_data, test_label = next(iter(test_dataloader))"
   ]
  },
  {
   "cell_type": "code",
   "execution_count": 5,
   "id": "closing-salad",
   "metadata": {},
   "outputs": [
    {
     "name": "stdout",
     "output_type": "stream",
     "text": [
      "torch.Size([36, 300, 300, 3])\n",
      "torch.Size([36, 300, 300, 6])\n",
      "torch.Size([64, 300, 300, 3])\n",
      "torch.Size([64, 300, 300, 6])\n",
      "torch.Size([64, 300, 300, 3])\n",
      "torch.Size([64, 300, 300, 6])\n"
     ]
    }
   ],
   "source": [
    "print(train_data.shape)\n",
    "print(train_label.shape)\n",
    "print(valid_data.shape)\n",
    "print(valid_label.shape)\n",
    "print(test_data.shape)\n",
    "print(test_label.shape)"
   ]
  }
 ],
 "metadata": {
  "kernelspec": {
   "display_name": "base",
   "language": "python",
   "name": "base"
  },
  "language_info": {
   "codemirror_mode": {
    "name": "ipython",
    "version": 3
   },
   "file_extension": ".py",
   "mimetype": "text/x-python",
   "name": "python",
   "nbconvert_exporter": "python",
   "pygments_lexer": "ipython3",
   "version": "3.8.3"
  }
 },
 "nbformat": 4,
 "nbformat_minor": 5
}
