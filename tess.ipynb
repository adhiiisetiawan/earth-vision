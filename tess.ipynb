{
 "cells": [
  {
   "cell_type": "code",
   "execution_count": 1,
   "id": "supported-render",
   "metadata": {},
   "outputs": [],
   "source": [
    "import os\n",
    "from jreo.datasets import DroneDeploy"
   ]
  },
  {
   "cell_type": "code",
   "execution_count": 2,
   "id": "expanded-tokyo",
   "metadata": {},
   "outputs": [],
   "source": [
    "dataset = DroneDeploy(root=os.getcwd(), download=False, tensor_data=True)"
   ]
  },
  {
   "cell_type": "code",
   "execution_count": 3,
   "id": "editorial-unemployment",
   "metadata": {},
   "outputs": [
    {
     "output_type": "execute_result",
     "data": {
      "text/plain": [
       "{'root': '/home/ryx/JREO',\n",
       " 'dataset': 'dataset-sample',\n",
       " 'filename': 'dataset-sample.tar.gz',\n",
       " 'train_dataset': <jreo.datasets.drone_deploy.DroneDataset at 0x7f2ed26e1f70>,\n",
       " 'valid_dataset': <jreo.datasets.drone_deploy.DroneDataset at 0x7f2ed26e1fd0>}"
      ]
     },
     "metadata": {},
     "execution_count": 3
    }
   ],
   "source": [
    "dataset.__dict__"
   ]
  },
  {
   "cell_type": "code",
   "execution_count": 5,
   "metadata": {},
   "outputs": [],
   "source": [
    "train_data, train_label = next(iter(dataset.train_dataset))"
   ]
  },
  {
   "cell_type": "code",
   "execution_count": 8,
   "metadata": {},
   "outputs": [
    {
     "output_type": "execute_result",
     "data": {
      "text/plain": [
       "torch.Size([300, 300, 3])"
      ]
     },
     "metadata": {},
     "execution_count": 8
    }
   ],
   "source": [
    "train_data.shape"
   ]
  },
  {
   "cell_type": "code",
   "execution_count": 9,
   "metadata": {},
   "outputs": [
    {
     "output_type": "execute_result",
     "data": {
      "text/plain": [
       "torch.Size([300, 300, 6])"
      ]
     },
     "metadata": {},
     "execution_count": 9
    }
   ],
   "source": [
    "train_label.shape"
   ]
  },
  {
   "cell_type": "code",
   "execution_count": null,
   "metadata": {},
   "outputs": [],
   "source": []
  }
 ],
 "metadata": {
  "kernelspec": {
   "name": "python383jvsc74a57bd02aff6ae6da96cf8f92a8b190e4f251d27124bdd641349fdac949415d441b204b",
   "display_name": "Python 3.8.3 64-bit ('base': conda)"
  },
  "language_info": {
   "codemirror_mode": {
    "name": "ipython",
    "version": 3
   },
   "file_extension": ".py",
   "mimetype": "text/x-python",
   "name": "python",
   "nbconvert_exporter": "python",
   "pygments_lexer": "ipython3",
   "version": "3.8.3"
  }
 },
 "nbformat": 4,
 "nbformat_minor": 5
}